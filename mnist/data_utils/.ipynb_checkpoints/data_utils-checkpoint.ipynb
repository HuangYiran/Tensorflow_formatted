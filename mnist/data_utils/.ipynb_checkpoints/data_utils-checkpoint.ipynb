{
 "cells": [
  {
   "cell_type": "code",
   "execution_count": 29,
   "metadata": {
    "collapsed": true
   },
   "outputs": [],
   "source": [
    "import tensorflow.examples.tutorials.mnist.input_data as input_data\n",
    "import tensorflow as tf\n",
    "import numpy as np\n",
    "import os\n",
    "import gzip"
   ]
  },
  {
   "cell_type": "code",
   "execution_count": 2,
   "metadata": {
    "collapsed": true
   },
   "outputs": [],
   "source": [
    "# 可以用FLAGS，这样就可以从终端输入，下次可以试试\n",
    "TRAIN_DIR = \"../../../data/Tensorflow_formatted/mnist/train\"\n",
    "TEST_DIR = \"../../../data/Tensorflow_formatted/mnist/test\""
   ]
  },
  {
   "cell_type": "code",
   "execution_count": 38,
   "metadata": {},
   "outputs": [],
   "source": [
    "# download the file if not exists\n",
    "# 成功下载后会在目标路径下增加一个名为exists的空文件, 已标志文件是否下载\n",
    "# 因为后面会把文件直接进行解压处理并删除原文件，所以不能依据原文件进行判别\n",
    "# => 主要学习os的基本用法\n",
    "def may_download():\n",
    "    if not os.path.exists(TRAIN_DIR+\"/exists\"):\n",
    "        print(\"file not exist, try to download the file...\")\n",
    "        mnist = input_data.read_data_sets(TRAIN_DIR, one_hot = True)\n",
    "        if not os.path.exists(TEST_DIR):\n",
    "            os.mkdir(TEST_DIR)\n",
    "        os.rename(TRAIN_DIR+\"/t10k-images-idx3-ubyte.gz\", TEST_DIR+\"/t10k-images-idx3-ubyte.gz\")\n",
    "        os.rename(TRAIN_DIR+\"/t10k-labels-idx1-ubyte.gz\", TEST_DIR+\"/t10k-labels-idx1-ubyte.gz\")\n",
    "        with open(TRAIN_DIR+\"/exists\", 'w') as f:\n",
    "            print(\"create exists\")\n",
    "    else:\n",
    "        print(\"file exists\")\n",
    "    train_images_path = TRAIN_DIR + \"/train-images-idx3-ubyte.gz\"\n",
    "    train_labels_path = TRAIN_DIR + \"/train-labels-idx1-ubyte.gz\"\n",
    "    test_images_path = TEST_DIR + \"/t10k-images-idx3-ubyte.gz\"\n",
    "    test_labels_path = TEST_DIR + \"/t10k-labels-idx1-ubyte.gz\"\n",
    "    return (train_images_path, train_labels_path, test_images_path, test_labels_path)"
   ]
  },
  {
   "cell_type": "code",
   "execution_count": 60,
   "metadata": {},
   "outputs": [
    {
     "name": "stdout",
     "output_type": "stream",
     "text": [
      "file not exist, try to download the file...\n",
      "Successfully downloaded train-images-idx3-ubyte.gz 9912422 bytes.\n",
      "Extracting ../../../data/Tensorflow_formatted/mnist/train/train-images-idx3-ubyte.gz\n",
      "Successfully downloaded train-labels-idx1-ubyte.gz 28881 bytes.\n",
      "Extracting ../../../data/Tensorflow_formatted/mnist/train/train-labels-idx1-ubyte.gz\n",
      "Successfully downloaded t10k-images-idx3-ubyte.gz 1648877 bytes.\n",
      "Extracting ../../../data/Tensorflow_formatted/mnist/train/t10k-images-idx3-ubyte.gz\n",
      "Successfully downloaded t10k-labels-idx1-ubyte.gz 4542 bytes.\n",
      "Extracting ../../../data/Tensorflow_formatted/mnist/train/t10k-labels-idx1-ubyte.gz\n",
      "create exists\n"
     ]
    },
    {
     "data": {
      "text/plain": [
       "('../../../data/Tensorflow_formatted/mnist/train/train-images-idx3-ubyte.gz',\n",
       " '../../../data/Tensorflow_formatted/mnist/train/train-labels-idx1-ubyte.gz',\n",
       " '../../../data/Tensorflow_formatted/mnist/test/t10k-images-idx3-ubyte.gz',\n",
       " '../../../data/Tensorflow_formatted/mnist/test/t10k-labels-idx1-ubyte.gz')"
      ]
     },
     "execution_count": 60,
     "metadata": {},
     "output_type": "execute_result"
    }
   ],
   "source": [
    "may_download()"
   ]
  },
  {
   "cell_type": "code",
   "execution_count": 35,
   "metadata": {},
   "outputs": [],
   "source": [
    "# unzip the file directly\n",
    "# 这个动作没有意义，原文件是一堆的文件，直接解压，得不到什么好东西。\n",
    "# => 了解gzip的用法\n",
    "def unzip(file_path):\n",
    "    file_name,_ = os.path.splitext(file_path)\n",
    "    with gzip.open(file_path, 'rb') as zip_file:\n",
    "        with open(file_name, 'wb') as t_file:\n",
    "            for line in zip_file:\n",
    "                t_file.write(line)\n",
    "    os.remove(file_path)\n",
    "    return file_name"
   ]
  },
  {
   "cell_type": "code",
   "execution_count": 48,
   "metadata": {
    "collapsed": true
   },
   "outputs": [],
   "source": [
    "# 名字前有一个下划线，惯例表示内部方法\n",
    "# =>numpy的数据读取，和dtype类型，改为big endian\n",
    "def _read32(bytestream):\n",
    "    # 设置dtype，更改endian的类型\n",
    "    dt = np.dtype(np.uint32).newbyteorder('>')\n",
    "    # 读取前4个字节 并返回. frombuffer返回数组，取首值\n",
    "    return np.frombuffer(bytestream.read(4), dtype = dt)[0]"
   ]
  },
  {
   "cell_type": "code",
   "execution_count": 79,
   "metadata": {},
   "outputs": [],
   "source": [
    "# 提取文件，应该区分image和label\n",
    "# image文件，前4个字符是验证码，之后是图片的个数，图片的rows，图片的cols，再之后就是图片的数据了。\n",
    "# 所以提取步骤是先获得图片的数据，然后返回对应的图片数据。\n",
    "# 各种数据类型，弄得头都晕了，应该注意区分\n",
    "def extract_images(file_path):\n",
    "    file_name, _ = os.path.splitext(file_path)\n",
    "    if os.path.exists(file_path):\n",
    "        with gzip.open(file_path, 'rb') as bytestream:\n",
    "            magic = _read32(bytestream)\n",
    "            if magic != 2051:\n",
    "                raise ValueError(\"Invalid magic number %d in MNIST image file: %s\" %(magic, file_path))\n",
    "            num_image = _read32(bytestream)\n",
    "            rows = _read32(bytestream)\n",
    "            cols = _read32(bytestream)\n",
    "            data = bytestream.read(rows * cols * num_image)\n",
    "            with open(file_name, 'wb') as f:\n",
    "                f.write(data)\n",
    "        #os.remove(file_path)\n",
    "    else:\n",
    "        if os.path.exists(file_name):\n",
    "            print(\"extracted data already exists.\")\n",
    "        else:\n",
    "            raise ValueError(\"target file not exists\")\n",
    "    return file_name"
   ]
  },
  {
   "cell_type": "code",
   "execution_count": 80,
   "metadata": {
    "collapsed": true
   },
   "outputs": [],
   "source": [
    "def extract_labels(file_path):\n",
    "    file_name, _ = os.path.splitext(file_path)\n",
    "    if os.path.exists(file_path):\n",
    "        with gzip.open(file_path, 'rb') as bytestream:\n",
    "            magic = _read32(bytestream)\n",
    "            if magic != 2049:\n",
    "                raise ValueError(\"Invalid magic number %d in MNIST labels file: %s\" %(magic, file_path))\n",
    "            num_items = _read32(bytestream)\n",
    "            buf = bytestream.read(num_items)\n",
    "            #labels = np.frombuffer(buf, dtype = np.uint8)\n",
    "            with open(file_name, 'wb') as f:\n",
    "                f.write(buf)\n",
    "        #os.remove(file_path)\n",
    "    else:\n",
    "        if os.path.exists(file_name):\n",
    "            print(\"extracted data already exists.\")\n",
    "        else:\n",
    "            raise ValueError(\"target file not exists\")\n",
    "    return file_name"
   ]
  },
  {
   "cell_type": "code",
   "execution_count": 72,
   "metadata": {},
   "outputs": [
    {
     "data": {
      "text/plain": [
       "'../../../data/Tensorflow_formatted/mnist/train/train-images-idx3-ubyte'"
      ]
     },
     "execution_count": 72,
     "metadata": {},
     "output_type": "execute_result"
    }
   ],
   "source": [
    "extract_images(\"../../../data/Tensorflow_formatted/mnist/train/train-images-idx3-ubyte.gz\")"
   ]
  },
  {
   "cell_type": "code",
   "execution_count": 73,
   "metadata": {},
   "outputs": [
    {
     "data": {
      "text/plain": [
       "'../../../data/Tensorflow_formatted/mnist/train/train-labels-idx1-ubyte'"
      ]
     },
     "execution_count": 73,
     "metadata": {},
     "output_type": "execute_result"
    }
   ],
   "source": [
    "extract_labels(\"../../../data/Tensorflow_formatted/mnist/train/train-labels-idx1-ubyte.gz\")"
   ]
  },
  {
   "cell_type": "code",
   "execution_count": 82,
   "metadata": {
    "collapsed": true
   },
   "outputs": [],
   "source": [
    "def prepare_data():\n",
    "    train_images_path, train_labels_path, test_images_path, test_labels_path = may_download()\n",
    "    train_images_path = extract_images(train_images_path)\n",
    "    train_labels_path = extract_labels(train_labels_path)\n",
    "    test_images_path = extract_images(test_images_path)\n",
    "    test_labels_path = extract_labels(test_labels_path)\n",
    "    return (train_images_path, train_labels_path, test_images_path, test_labels_path)"
   ]
  },
  {
   "cell_type": "code",
   "execution_count": 83,
   "metadata": {},
   "outputs": [
    {
     "name": "stdout",
     "output_type": "stream",
     "text": [
      "file exists\n"
     ]
    },
    {
     "data": {
      "text/plain": [
       "('../../../data/Tensorflow_formatted/mnist/train/train-images-idx3-ubyte',\n",
       " '../../../data/Tensorflow_formatted/mnist/train/train-labels-idx1-ubyte',\n",
       " '../../../data/Tensorflow_formatted/mnist/test/t10k-images-idx3-ubyte',\n",
       " '../../../data/Tensorflow_formatted/mnist/test/t10k-labels-idx1-ubyte')"
      ]
     },
     "execution_count": 83,
     "metadata": {},
     "output_type": "execute_result"
    }
   ],
   "source": [
    "prepare_data()"
   ]
  },
  {
   "cell_type": "code",
   "execution_count": null,
   "metadata": {
    "collapsed": true
   },
   "outputs": [],
   "source": []
  }
 ],
 "metadata": {
  "kernelspec": {
   "display_name": "Python 3",
   "language": "python",
   "name": "python3"
  },
  "language_info": {
   "codemirror_mode": {
    "name": "ipython",
    "version": 3
   },
   "file_extension": ".py",
   "mimetype": "text/x-python",
   "name": "python",
   "nbconvert_exporter": "python",
   "pygments_lexer": "ipython3",
   "version": "3.6.1"
  }
 },
 "nbformat": 4,
 "nbformat_minor": 2
}
