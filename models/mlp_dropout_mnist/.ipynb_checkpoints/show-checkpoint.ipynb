{
 "cells": [
  {
   "cell_type": "markdown",
   "metadata": {},
   "source": [
    "![mlp-graph](https://raw.githubusercontent.com/HuangYiran/Tensorflow_formatted/master/models/mlp_dropout_mnist/mlp-graph.png)\n",
    "![mlp-scala](https://raw.githubusercontent.com/HuangYiran/Tensorflow_formatted/master/models/mlp_dropout_mnist/mlp-scala.png)\n",
    "![mlp-scala2](https://raw.githubusercontent.com/HuangYiran/Tensorflow_formatted/master/models/mlp_dropout_mnist/mlp-scala2.png)\n",
    "![mlp-distribution](https://raw.githubusercontent.com/HuangYiran/Tensorflow_formatted/master/models/mlp_dropout_mnist/mlp-distribution.png)\n",
    "![mlp-histogram1](https://raw.githubusercontent.com/HuangYiran/Tensorflow_formatted/master/models/mlp_dropout_mnist/mlp-histogram2.png)\n",
    "![mlp-histogram2](https://raw.githubusercontent.com/HuangYiran/Tensorflow_formatted/master/models/mlp_dropout_mnist/mlp-histogram2.png)"
   ]
  },
  {
   "cell_type": "code",
   "execution_count": null,
   "metadata": {
    "collapsed": true
   },
   "outputs": [],
   "source": []
  }
 ],
 "metadata": {
  "kernelspec": {
   "display_name": "Python 3",
   "language": "python",
   "name": "python3"
  },
  "language_info": {
   "codemirror_mode": {
    "name": "ipython",
    "version": 3
   },
   "file_extension": ".py",
   "mimetype": "text/x-python",
   "name": "python",
   "nbconvert_exporter": "python",
   "pygments_lexer": "ipython3",
   "version": "3.6.1"
  }
 },
 "nbformat": 4,
 "nbformat_minor": 2
}
