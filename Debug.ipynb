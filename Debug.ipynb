{
 "cells": [
  {
   "cell_type": "markdown",
   "metadata": {},
   "source": [
    "### Tensorflow debug\n",
    "大部分内容来自黄世宇的博客<br>\n",
    "几种常用的方法:<br>\n",
    "- 通过Session.run()获取变量的值\n",
    "- 利用Tensorboard查看一些可视化统计\n",
    "- 使用tf.Print()和tf.Assert()打印变量\n",
    "- 使用Python的debug工具：ipdb, pudb\n",
    "- 利用tf.py_func()向图中插入自定义的打印代码，tdb\n",
    "- 使用官方的debug工具：tfdbg"
   ]
  },
  {
   "cell_type": "markdown",
   "metadata": {},
   "source": [
    "#### 通过Session.run()获取变量的值\n",
    "优点：简单易行<br>\n",
    "缺点：必须要在图中保持需要观察的变量，必须要进行一次完整的运行"
   ]
  },
  {
   "cell_type": "code",
   "execution_count": 8,
   "metadata": {},
   "outputs": [
    {
     "name": "stdout",
     "output_type": "stream",
     "text": [
      "Loss(x, y) = 1.000\n",
      "pred_y(x)=10.000\n",
      "bias= 1.000\n"
     ]
    }
   ],
   "source": [
    "import tensorflow as tf\n",
    "\n",
    "x = tf.placeholder(tf.float32)\n",
    "y = tf.placeholder(tf.float32)\n",
    "bias = tf.Variable(1.0)\n",
    "\n",
    "y_pred = x ** 2 + bias\n",
    "loss = (y - y_pred) ** 2\n",
    "\n",
    "with tf.Session() as session:\n",
    "    tf.global_variables_initializer().run()\n",
    "    print('Loss(x, y) = %.3f' %session.run(loss, feed_dict = {x: 3.0, y:9.0}))\n",
    "    print('pred_y(x)= %.3f' %session.run(y_pred, {x: 3.0}))\n",
    "    print('bias= %.3f' %session.run(bias))"
   ]
  },
  {
   "cell_type": "markdown",
   "metadata": {},
   "source": [
    "#### 利用tf.Print()和tf.Assert()打印变量\n",
    "tf.Print(input, data, message = None, first_n = None, summarize = None, name = None)<br>"
   ]
  },
  {
   "cell_type": "code",
   "execution_count": 9,
   "metadata": {
    "collapsed": true
   },
   "outputs": [],
   "source": [
    "def multilayer_perceptron(x):\n",
    "    fc1 = layers.fully_connected(x, 256, activation_fn = tf.nn.relu)\n",
    "    out = layers.fully_connected(fc1, 10, activation_fn = None)\n",
    "    out = tf.Print(out, [tf.argmax(out, 1)],\n",
    "                   'argmax(out)=', summarize=20, first_n=7)\n",
    "    return out"
   ]
  },
  {
   "cell_type": "markdown",
   "metadata": {},
   "source": [
    "在前7次迭代中，他会输出预测的label<br>\n",
    "缺点是函数过于简单，没法在满足一定条件下进行输出，或者隔多次迭代进行一次输出"
   ]
  },
  {
   "cell_type": "markdown",
   "metadata": {},
   "source": [
    "tf.Assert(condition, data, summarize=None, name = None)<br>\n",
    "这个函数在condition等于False的时候进行输出data的值，并且抛出异常，summarize决定输出多少变量"
   ]
  },
  {
   "cell_type": "code",
   "execution_count": 11,
   "metadata": {},
   "outputs": [],
   "source": [
    "def multilayer_perceptron(x):\n",
    "    fc1 = layers.fully_connected(x, 256, activation_fn = tf.nn.relu)\n",
    "    out = layers.fully_connected(fc1, 10, activation_fn = None)\n",
    "    \n",
    "    assert_op = tf.Assert(tf.reduce_all(out > 0), [out], name = 'assert_out_positioin')\n",
    "    \n",
    "    with tf.control_dependencies([assert_op]):\n",
    "        out = tf.identity(out, name = 'out')\n",
    "    return out\n",
    "\n",
    "# or direct\n",
    "def multilayer_perceptron2(x):\n",
    "    fc1 = layers.fully_connected(x, 256, activation_fn = tf.nn.relu)\n",
    "    out = layers.fully_connected(fc1, 10, activation_fn = None)\n",
    "    \n",
    "    assert_op = tf.Assert(tf.reduce_all(out > 0), [out], name = 'assert_out_positioin')\n",
    "    \n",
    "    out = tf.with_dependencies([assert_op], out)\n",
    "    return out\n",
    "\n",
    "# 或者把所有Assert操作加入到collection中\n",
    "def multilayer_perceptron(x):\n",
    "    fc1 = layers.fully_connected(x, 256, activation_fn = tf.nn.relu)\n",
    "    out = layers.fully_connected(fc1, 10, activation_fn = None)\n",
    "    \n",
    "    tf.add_to_collect('Asserts', \n",
    "                      tf.Assert(tf.reduce_all(out>0), [out], name = 'assert_out_gt_0'))\n",
    "    return out\n",
    "\n",
    "assert_op = tf.group(*tf.get_collection('Asserts'))\n",
    "\n",
    "# 然后运行\n",
    "def run():\n",
    "    a = sesson.run([train_op, assert_op], feed_dict = {...})"
   ]
  },
  {
   "cell_type": "markdown",
   "metadata": {},
   "source": [
    "#### 利用tf.py_func()向图中插入自定义的打印代码\n",
    "tf.py_func(func, inp, Tout, stateful = True, name = None)"
   ]
  },
  {
   "cell_type": "code",
   "execution_count": 12,
   "metadata": {
    "collapsed": true
   },
   "outputs": [],
   "source": [
    "def my_func(x):\n",
    "    # x will be a numpy array with the contents of the placeholder below\n",
    "    return np.sinh(x)\n",
    "\n",
    "def run():\n",
    "    inp = tf.placeholder(tf.float32)\n",
    "    y = py_func(my_func, [inp], [tf.float32])"
   ]
  },
  {
   "cell_type": "code",
   "execution_count": 13,
   "metadata": {},
   "outputs": [
    {
     "ename": "SyntaxError",
     "evalue": "invalid syntax (<ipython-input-13-ee632540aa0e>, line 6)",
     "output_type": "error",
     "traceback": [
      "\u001b[0;36m  File \u001b[0;32m\"<ipython-input-13-ee632540aa0e>\"\u001b[0;36m, line \u001b[0;32m6\u001b[0m\n\u001b[0;31m    print 'FC1: {}'.format(fc1_val.shape)\u001b[0m\n\u001b[0m                  ^\u001b[0m\n\u001b[0;31mSyntaxError\u001b[0m\u001b[0;31m:\u001b[0m invalid syntax\n"
     ]
    }
   ],
   "source": [
    "def multilayer_perceptron(x):\n",
    "    fc1 = layers.fully_connected(x, 256, activation_fn = tf.nn.relu)\n",
    "    out = layers.fully_connected(fc1, 10, activation_fn = None)\n",
    "    \n",
    "    def _debug_print_func(fc1_val):\n",
    "        print 'FC1: {}'.format(fc1_val.shape)\n",
    "        print 'min, max of FC1 = {}'.format(fc1_val.min(), fc1_val.max())\n",
    "        return False\n",
    "    \n",
    "    debug_print_op = tf.py_func(_debug_print_func, [fc1], [tf.bool])\n",
    "    with tf.control_dependencies(debug_print_op):\n",
    "        out = tf.identity(out, name = 'out')\n",
    "    return out"
   ]
  },
  {
   "cell_type": "code",
   "execution_count": null,
   "metadata": {
    "collapsed": true
   },
   "outputs": [],
   "source": []
  }
 ],
 "metadata": {
  "kernelspec": {
   "display_name": "Python 3",
   "language": "python",
   "name": "python3"
  },
  "language_info": {
   "codemirror_mode": {
    "name": "ipython",
    "version": 3
   },
   "file_extension": ".py",
   "mimetype": "text/x-python",
   "name": "python",
   "nbconvert_exporter": "python",
   "pygments_lexer": "ipython3",
   "version": "3.6.1"
  }
 },
 "nbformat": 4,
 "nbformat_minor": 2
}
