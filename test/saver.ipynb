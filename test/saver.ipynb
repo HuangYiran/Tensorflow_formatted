{
 "cells": [
  {
   "cell_type": "markdown",
   "metadata": {},
   "source": [
    "### Saver 背景介绍\n",
    "我们经常在训练完一个模型之后希望保存训练结果，这些结果指的是模型的参数，以便下次迭代的训练或者用作测试。Tensorflow针对这一需求提供了saver类<br>\n",
    "Saver类提供了向checkpoints文件保存和从checkpoint文件中回复变量的相关方法。Checkpoints文件是一个二进制文件，它把变量名映射到对应的tensor值。<br>\n",
    "只要提供一个计数器，当计数器触发时，Saver类可以自动的生成checkpoint文件。这让我们可以在驯良过程中保存多个中间结果。例如，我们可以保存每一步训练的结果。<br>\n",
    "为了避免填满整个磁盘，Saver可以自动的管理checkpoints文件。例如，我们可以指定保存最近的N个Checkpoints文件。"
   ]
  },
  {
   "cell_type": "code",
   "execution_count": 3,
   "metadata": {},
   "outputs": [
    {
     "name": "stdout",
     "output_type": "stream",
     "text": [
      "INFO:tensorflow:Restoring parameters from model.ckpt-100\n",
      "[ 3.98627472]\n",
      "[ 4.00548649]\n"
     ]
    }
   ],
   "source": [
    "import tensorflow as tf\n",
    "import numpy as np\n",
    "\n",
    "tf.reset_default_graph()\n",
    "\n",
    "x = tf.placeholder(tf.float32, shape=[None, 1])\n",
    "y = 4 * x + 4\n",
    "\n",
    "w = tf.Variable(tf.random_normal([1], -1, 1))\n",
    "b = tf.Variable(tf.zeros([1]))\n",
    "y_predict = w * x + b\n",
    "\n",
    "loss =tf.reduce_mean(tf.square(y - y_predict))\n",
    "optimizer = tf.train.GradientDescentOptimizer(0.5)\n",
    "train = optimizer.minimize(loss)\n",
    "\n",
    "isTrain = False\n",
    "train_steps = 100\n",
    "checkpoint_steps = 50\n",
    "checkpoint_dir = \"\"\n",
    "\n",
    "x_data = np.reshape(np.random.rand(10).astype(np.float32), (10, 1))\n",
    "saver = tf.train.Saver() # defaults to saving all variables - in this case w and b\n",
    "\n",
    "with tf.Session() as sess:\n",
    "    if isTrain:\n",
    "        sess.run(tf.global_variables_initializer())\n",
    "        for i in range(train_steps):\n",
    "            sess.run(train, feed_dict = {x: x_data})\n",
    "            if (i+1) % checkpoint_steps == 0:\n",
    "                saver.save(sess, checkpoint_dir + 'model.ckpt', global_step = i + 1)\n",
    "    else:\n",
    "        ckpt = tf.train.get_checkpoint_state(checkpoint_dir)\n",
    "        if ckpt and ckpt.model_checkpoint_path:\n",
    "            \n",
    "            saver.restore(sess, ckpt.model_checkpoint_path)\n",
    "        else:\n",
    "            pass\n",
    "        print(sess.run(w))\n",
    "        print(sess.run(b))"
   ]
  },
  {
   "cell_type": "code",
   "execution_count": null,
   "metadata": {
    "collapsed": true
   },
   "outputs": [],
   "source": []
  }
 ],
 "metadata": {
  "kernelspec": {
   "display_name": "Python 3",
   "language": "python",
   "name": "python3"
  },
  "language_info": {
   "codemirror_mode": {
    "name": "ipython",
    "version": 3
   },
   "file_extension": ".py",
   "mimetype": "text/x-python",
   "name": "python",
   "nbconvert_exporter": "python",
   "pygments_lexer": "ipython3",
   "version": "3.6.1"
  }
 },
 "nbformat": 4,
 "nbformat_minor": 2
}
